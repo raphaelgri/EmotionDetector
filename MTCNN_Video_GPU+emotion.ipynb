{
 "cells": [
  {
   "cell_type": "code",
   "execution_count": 1,
   "id": "36f2175d",
   "metadata": {},
   "outputs": [],
   "source": [
    "from facenet_pytorch import MTCNN\n",
    "import cv2\n",
    "import math\n",
    "from PIL import Image\n",
    "import numpy as np\n",
    "from matplotlib import pyplot as plt\n",
    "import matplotlib\n",
    "from tqdm.notebook import tqdm\n",
    "import seaborn as sns\n",
    "from scipy import stats\n",
    "import time\n",
    "import glob\n",
    "import os\n",
    "import torch as pt\n",
    "from torchvision import transforms as trans\n",
    "from torch import nn\n",
    "from imutils.video import FileVideoStream\n",
    "from statistics import mode\n",
    "import pandas as pd\n",
    "import time"
   ]
  },
  {
   "cell_type": "code",
   "execution_count": 2,
   "id": "5806c155",
   "metadata": {},
   "outputs": [],
   "source": [
    "#### timer\n",
    "\n",
    "t1 = time.time()\n"
   ]
  },
  {
   "cell_type": "code",
   "execution_count": 3,
   "id": "a2ecacff",
   "metadata": {},
   "outputs": [],
   "source": [
    "#Load the video\n",
    "v_cap = cv2.VideoCapture('Data/videoplayback.mp4')\n",
    "v_len = int(v_cap.get(cv2.CAP_PROP_FRAME_COUNT))\n",
    "fps = int(v_cap.get(cv2.CAP_PROP_FPS))\n",
    "timestamps = [] #list for the timestamps\n"
   ]
  },
  {
   "cell_type": "markdown",
   "id": "975d7553",
   "metadata": {},
   "source": [
    "### Face detection part"
   ]
  },
  {
   "cell_type": "code",
   "execution_count": 4,
   "id": "b34dc48e",
   "metadata": {},
   "outputs": [],
   "source": [
    "mtcnn = MTCNN(select_largest=False, device='cuda', keep_all=False,post_process=False, image_size=48)"
   ]
  },
  {
   "cell_type": "code",
   "execution_count": 5,
   "id": "45e9f33f",
   "metadata": {
    "scrolled": true
   },
   "outputs": [
    {
     "name": "stdout",
     "output_type": "stream",
     "text": [
      "282387\n"
     ]
    },
    {
     "data": {
      "application/vnd.jupyter.widget-view+json": {
       "model_id": "753f533b21f947f4a69f4b871cedc98a",
       "version_major": 2,
       "version_minor": 0
      },
      "text/plain": [
       "  0%|          | 0/282387 [00:00<?, ?it/s]"
      ]
     },
     "metadata": {},
     "output_type": "display_data"
    },
    {
     "name": "stdout",
     "output_type": "stream",
     "text": [
      "MTCNN batch num0 from:0 to:[1980]\n"
     ]
    },
    {
     "name": "stderr",
     "output_type": "stream",
     "text": [
      "C:\\Users\\Raphael\\AppData\\Local\\Programs\\Python\\Python310\\lib\\site-packages\\torch\\nn\\functional.py:780: UserWarning: Note that order of the arguments: ceil_mode and return_indices will changeto match the args list in nn.MaxPool2d in a future release.\n",
      "  warnings.warn(\"Note that order of the arguments: ceil_mode and return_indices will change\"\n",
      "C:\\Users\\Raphael\\AppData\\Local\\Programs\\Python\\Python310\\lib\\site-packages\\facenet_pytorch\\models\\utils\\detect_face.py:183: VisibleDeprecationWarning: Creating an ndarray from ragged nested sequences (which is a list-or-tuple of lists-or-tuples-or ndarrays with different lengths or shapes) is deprecated. If you meant to do this, you must specify 'dtype=object' when creating the ndarray.\n",
      "  batch_boxes, batch_points = np.array(batch_boxes), np.array(batch_points)\n",
      "C:\\Users\\Raphael\\AppData\\Local\\Programs\\Python\\Python310\\lib\\site-packages\\facenet_pytorch\\models\\mtcnn.py:339: VisibleDeprecationWarning: Creating an ndarray from ragged nested sequences (which is a list-or-tuple of lists-or-tuples-or ndarrays with different lengths or shapes) is deprecated. If you meant to do this, you must specify 'dtype=object' when creating the ndarray.\n",
      "  boxes = np.array(boxes)\n",
      "C:\\Users\\Raphael\\AppData\\Local\\Programs\\Python\\Python310\\lib\\site-packages\\facenet_pytorch\\models\\mtcnn.py:340: VisibleDeprecationWarning: Creating an ndarray from ragged nested sequences (which is a list-or-tuple of lists-or-tuples-or ndarrays with different lengths or shapes) is deprecated. If you meant to do this, you must specify 'dtype=object' when creating the ndarray.\n",
      "  probs = np.array(probs)\n",
      "C:\\Users\\Raphael\\AppData\\Local\\Programs\\Python\\Python310\\lib\\site-packages\\facenet_pytorch\\models\\mtcnn.py:341: VisibleDeprecationWarning: Creating an ndarray from ragged nested sequences (which is a list-or-tuple of lists-or-tuples-or ndarrays with different lengths or shapes) is deprecated. If you meant to do this, you must specify 'dtype=object' when creating the ndarray.\n",
      "  points = np.array(points)\n",
      "C:\\Users\\Raphael\\AppData\\Local\\Programs\\Python\\Python310\\lib\\site-packages\\facenet_pytorch\\models\\mtcnn.py:444: VisibleDeprecationWarning: Creating an ndarray from ragged nested sequences (which is a list-or-tuple of lists-or-tuples-or ndarrays with different lengths or shapes) is deprecated. If you meant to do this, you must specify 'dtype=object' when creating the ndarray.\n",
      "  selected_boxes = np.array(selected_boxes)\n",
      "C:\\Users\\Raphael\\AppData\\Local\\Programs\\Python\\Python310\\lib\\site-packages\\facenet_pytorch\\models\\mtcnn.py:446: VisibleDeprecationWarning: Creating an ndarray from ragged nested sequences (which is a list-or-tuple of lists-or-tuples-or ndarrays with different lengths or shapes) is deprecated. If you meant to do this, you must specify 'dtype=object' when creating the ndarray.\n",
      "  selected_points = np.array(selected_points)\n"
     ]
    },
    {
     "name": "stdout",
     "output_type": "stream",
     "text": [
      "MTCNN batch num1 from:1981 to:[3962]\n",
      "MTCNN batch num2 from:3963 to:[5944]\n",
      "MTCNN batch num3 from:5945 to:[7925]\n",
      "MTCNN batch num4 from:7926 to:[9421]\n"
     ]
    }
   ],
   "source": [
    "# Loop through video\n",
    "batch_size = 2048\n",
    "batch_num = 0\n",
    "frames = []\n",
    "boxes = []\n",
    "landmarks = []\n",
    "view_frames = []\n",
    "view_boxes = []\n",
    "view_landmarks = []\n",
    "print(v_len)\n",
    "sf = 1 # get one frame per second\n",
    "lff = False # last frame fail flag\n",
    "\n",
    "for i in tqdm(range(v_len)):\n",
    "    # Load frame\n",
    "    success, frame = v_cap.read()\n",
    "    if i % math.floor(fps)*sf == 0 or i >= v_len-1: #skip to get every sf seconds and get the last frame for processing\n",
    "        success, frame = v_cap.retrieve()\n",
    "    else:\n",
    "        continue\n",
    "    if not success and i < v_len-1:\n",
    "        continue\n",
    "    else:\n",
    "        if i >= v_len-1: #in case is the last frame and it failed\n",
    "            lff = True\n",
    "\n",
    "    if not lff:\n",
    "        # Add to batch, resizing for speed\n",
    "        frame = cv2.cvtColor(frame, cv2.COLOR_BGR2RGB)\n",
    "        frame = Image.fromarray(frame)\n",
    "        frame = frame.resize([int(f * 0.25) for f in frame.size])\n",
    "        frames.append(frame)\n",
    "        timestamps.append(math.floor(v_cap.get(cv2.CAP_PROP_POS_MSEC))//1000) #append timestamp of the frame\n",
    "    \n",
    "    # When batch is full, detect faces and reset batch list\n",
    "    if len(frames) >= batch_size or i >= v_len-1:\n",
    "        print(\"MTCNN batch num\" + str(batch_num) + \" from:\" + str(timestamps[0]) + \" to:\" + str(timestamps[-1:]))\n",
    "        #define save path \n",
    "        save_paths = [f'Data/T4/{timestamps[i]}.jpg' for i in range(len(frames))]\n",
    "        faces = mtcnn(frames, save_path=save_paths)\n",
    "        im_count = 0\n",
    "        batch_num += 1\n",
    "        frames = [] #clear frame list\n",
    "        timestamps = [] #clear timestamplist\n",
    "        \n",
    "    outi = i"
   ]
  },
  {
   "cell_type": "code",
   "execution_count": 6,
   "id": "24cbb231",
   "metadata": {},
   "outputs": [
    {
     "name": "stdout",
     "output_type": "stream",
     "text": [
      "195.838458776474\n"
     ]
    }
   ],
   "source": [
    "t2 = time.time()\n",
    "delta1 = t2-t1\n",
    "\n",
    "print(delta1)"
   ]
  },
  {
   "cell_type": "markdown",
   "id": "52698af9",
   "metadata": {},
   "source": [
    "### Emotion detection part"
   ]
  },
  {
   "cell_type": "code",
   "execution_count": 7,
   "id": "49044e5d",
   "metadata": {
    "scrolled": false
   },
   "outputs": [
    {
     "name": "stderr",
     "output_type": "stream",
     "text": [
      "C:\\Users\\Raphael\\AppData\\Local\\Temp\\ipykernel_7932\\3496881956.py:15: FutureWarning: The input object of type 'Image' is an array-like implementing one of the corresponding protocols (`__array__`, `__array_interface__` or `__array_struct__`); but not a sequence (or 0-D). In the future, this object will be coerced as if it was first converted using `np.array(obj)`. To retain the old behaviour, you have to either modify the type 'Image', or assign to an empty array created with `np.empty(correct_shape, dtype=object)`.\n",
      "  np_images=np.array(images)\n",
      "C:\\Users\\Raphael\\AppData\\Local\\Temp\\ipykernel_7932\\3496881956.py:15: VisibleDeprecationWarning: Creating an ndarray from ragged nested sequences (which is a list-or-tuple of lists-or-tuples-or ndarrays with different lengths or shapes) is deprecated. If you meant to do this, you must specify 'dtype=object' when creating the ndarray.\n",
      "  np_images=np.array(images)\n"
     ]
    }
   ],
   "source": [
    "#0 - happy\n",
    "#1 - sad\n",
    "#2 - neutral\n",
    "images = []\n",
    "time_stamps=[]\n",
    "for i in range(10): #to deal with OSError: [Errno 24] Too many open files: 'Data/T4\\\\8484.jpg'\n",
    "    filelist = glob.glob(f'Data/T4/{i}*')\n",
    "    for f in filelist:\n",
    "        time_stamp=int(os.path.split(f)[1].split('.')[0])\n",
    "        time_stamps.append(time_stamp)\n",
    "\n",
    "    imagestmp = [Image.open(f).copy() for f in filelist]\n",
    "    images = images+imagestmp\n",
    "np_time_stamps=np.array(time_stamps)\n",
    "np_images=np.array(images)"
   ]
  },
  {
   "cell_type": "code",
   "execution_count": 8,
   "id": "0550b5d1",
   "metadata": {},
   "outputs": [],
   "source": [
    "class EmotionDetector(nn.Module):\n",
    "    def __init__(self, in_ch,classes):\n",
    "        super(EmotionDetector,self).__init__()\n",
    "\n",
    "        self.conv1=nn.Conv2d(in_channels=in_ch,out_channels=60, kernel_size=(3,3))\n",
    "        self.relu1=nn.ReLU()\n",
    "        self.bn1=nn.BatchNorm2d(60)\n",
    "        self.maxPool1=nn.MaxPool2d(kernel_size=(2,2), stride=(2,2))\n",
    "\n",
    "\n",
    "        self.conv2=nn.Conv2d(in_channels=60,out_channels=120, kernel_size=(3,3))\n",
    "        self.relu2=nn.ReLU()\n",
    "        self.bn2=nn.BatchNorm2d(120)\n",
    "        self.maxPool2=nn.MaxPool2d(kernel_size=(2,2), stride=(2,2))\n",
    "\n",
    "\n",
    "        self.conv3=nn.Conv2d(in_channels=120,out_channels=240, kernel_size=(3,3))\n",
    "        self.relu3=nn.ReLU()\n",
    "        self.bn3=nn.BatchNorm2d(240)\n",
    "        # self.maxPool3=nn.MaxPool2d(kernel_size=(2,2), stride=(2,2))\n",
    "        #28*28*1 -> 27-13-> 12-6 *80 -> 5*4*100\n",
    "        #    \n",
    "        self.dropout=nn.Dropout2d()\n",
    "\n",
    "        self.conv4=nn.Conv2d(in_channels=240,out_channels=480, kernel_size=(3,3))\n",
    "        self.relu4=nn.ReLU()\n",
    "        self.maxPool4=nn.MaxPool2d(kernel_size=(2,2), stride=(2,2))\n",
    "\n",
    "\n",
    "\n",
    "        # self.conv5=nn.Conv2d(in_channels=120,out_channels=150, kernel_size=(5,5))\n",
    "        # self.relu5=nn.ReLU()\n",
    "        # self.maxPool5=nn.MaxPool2d(kernel_size=(2,2), stride=(1,1))\n",
    "\n",
    "\n",
    "        self.fc1=nn.Linear(in_features=480*3*3,out_features=200)\n",
    "        self.relu_fc1=nn.ReLU()\n",
    "\n",
    "        self.fc2=nn.Linear(in_features=200,out_features=classes)\n",
    "        self.lsm=nn.LogSoftmax(dim=1)\n",
    "\n",
    "    def forward(self,x):\n",
    "        debug=False\n",
    "        x=x.float()\n",
    "        if debug : print(\"input to cv1 \",x.shape)\n",
    "        x=self.conv1(x)\n",
    "        if debug : print(\"input to mxp1\",x.shape)\n",
    "        x=self.bn1(x)\n",
    "        x=self.relu1(x)\n",
    "        x=self.maxPool1(x)\n",
    "        # x=self.dropout(x)\n",
    "\n",
    "\n",
    "        if debug :print(\"input to cv2\",x.shape)\n",
    "        x=self.conv2(x)\n",
    "        x=self.bn2(x)\n",
    "\n",
    "        if debug : print(\"input to mxp2\",x.shape)\n",
    "        x=self.relu2(x)\n",
    "        x=self.maxPool2(x)\n",
    "        # x=self.dropout(x)\n",
    "\n",
    "        if debug : print(\"input to cv3\",x.shape)\n",
    "        x=self.conv3(x)\n",
    "        x=self.bn3(x)\n",
    "        x=self.relu3(x)\n",
    "        if debug : print(\"input to mxp3\",x.shape)\n",
    "        # x=self.maxPool3(x)\n",
    "        x=self.dropout(x)\n",
    "\n",
    "\n",
    "        x=self.conv4(x)\n",
    "        x=self.relu4(x)\n",
    "        x=self.maxPool4(x)\n",
    "        x=self.dropout(x)\n",
    "        # x=self.conv5(x)\n",
    "        # x=self.relu5(x)\n",
    "        # x=self.maxPool5(x)\n",
    "\n",
    "        if debug : print(\"input to fc1\",x.shape)\n",
    "        x = pt.flatten(x,1)\n",
    "\n",
    "        x=self.fc1(x)\n",
    "        x=self.relu_fc1(x)\n",
    "        if debug : print(\"input to fc2 \",x.shape)\n",
    "        x=self.fc2(x)\n",
    "        if debug : print(\"input to lsm \",x.shape)\n",
    "        output=self.lsm(x)\n",
    "        if debug : print(\"final output \",x.shape)\n",
    "        return output"
   ]
  },
  {
   "cell_type": "code",
   "execution_count": 9,
   "id": "f348e24f",
   "metadata": {},
   "outputs": [
    {
     "data": {
      "text/plain": [
       "<All keys matched successfully>"
      ]
     },
     "execution_count": 9,
     "metadata": {},
     "output_type": "execute_result"
    }
   ],
   "source": [
    "MODEL_NAME= 'EMOTION_DETECTOR_1.pt'\n",
    "MODEL_PATH = f\"models//{MODEL_NAME}\" \n",
    "CLASSES=3\n",
    "model=EmotionDetector(in_ch=1,classes=CLASSES).to('cuda')\n",
    "model.load_state_dict(pt.load(MODEL_PATH))"
   ]
  },
  {
   "cell_type": "code",
   "execution_count": 10,
   "id": "94d94557",
   "metadata": {},
   "outputs": [
    {
     "name": "stdout",
     "output_type": "stream",
     "text": [
      "9287\n"
     ]
    }
   ],
   "source": [
    "print(len(np_images))\n",
    "output_emo=[]\n",
    "model.eval()\n",
    "with pt.no_grad():\n",
    "    for image, times in zip(np_images,np_time_stamps):\n",
    "      image2 = Image.fromarray(np.uint8(image)).convert('L')\n",
    "      img = trans.ToTensor()(image2).type(pt.FloatTensor).to(\"cuda\").reshape(1,1,48,48)\n",
    "      pred=pt.exp(model(img))\n",
    "      idx=pred.argmax(axis=1).cpu().numpy()[0]\n",
    "      output_emo.append(idx)"
   ]
  },
  {
   "cell_type": "code",
   "execution_count": 11,
   "id": "4ce236b1",
   "metadata": {},
   "outputs": [
    {
     "name": "stdout",
     "output_type": "stream",
     "text": [
      "[2, 0, 2, 2, 2, 2, 2, 0, 2, 2, 0, 0, 0, 2, 0, 2, 2, 2, 2, 2, 2, 2, 2, 0, 2, 2, 0, 2, 0, 0, 2, 0, 0, 2, 2, 2, 0, 2, 2, 0, 2, 2, 2, 2, 2, 0, 1, 2, 2]\n",
      "[999]\n"
     ]
    }
   ],
   "source": [
    "print(output_emo[1:50])\n",
    "print(time_stamps[-1:])\n",
    "np_emo=np.array(output_emo)\n",
    "np_ts=np.array(time_stamps)\n",
    "\n"
   ]
  },
  {
   "cell_type": "code",
   "execution_count": 12,
   "id": "38be356b",
   "metadata": {},
   "outputs": [],
   "source": [
    "#sort lists\n",
    "\n",
    "sEmotion = Z = [x for _,x in sorted(zip(time_stamps,output_emo))]\n",
    "sTime = time_stamps\n",
    "sTime.sort()"
   ]
  },
  {
   "cell_type": "markdown",
   "id": "25e08df7",
   "metadata": {},
   "source": [
    "### Data Viz part"
   ]
  },
  {
   "cell_type": "markdown",
   "id": "3095c769",
   "metadata": {},
   "source": [
    "#set graph shape\n",
    "sns.set(rc={'figure.figsize':(20,2)})"
   ]
  },
  {
   "cell_type": "markdown",
   "id": "4583c498",
   "metadata": {},
   "source": [
    "i =0\n",
    "#every 1 min get mode\n",
    "step =60\n",
    "#new time stamps every element represent a minute\n",
    "ticks=[]\n",
    "emotion_min=[]\n",
    "min=0\n",
    "while i +step < len(np_emo):\n",
    "  #dont panic, jsut calculating the mode,\n",
    "  #returns a tuple of lists get first e from tuple then first from list\n",
    "  emotion_min.append(stats.mode(np_emo[i:i+step])[0][0])\n",
    "  ticks.append(min)\n",
    "  min+=1\n",
    "  i=i+step"
   ]
  },
  {
   "cell_type": "markdown",
   "id": "d747c9a8",
   "metadata": {},
   "source": [
    "import pandas as pd\n",
    "df=pd.DataFrame()\n",
    "df['emotion']=emotion_min\n",
    "df['time_Stamps']=ticks\n",
    "df.head()"
   ]
  },
  {
   "cell_type": "markdown",
   "id": "62e76daf",
   "metadata": {},
   "source": [
    "#sns.set(rc={'figure.figsize':(16,5)})\n",
    "sns.histplot(data=df, x='time_Stamps', hue='emotion', multiple='fill')"
   ]
  },
  {
   "cell_type": "markdown",
   "id": "9258773f",
   "metadata": {},
   "source": [
    "df"
   ]
  },
  {
   "cell_type": "markdown",
   "id": "6123e2f1",
   "metadata": {},
   "source": [
    "df=pd.DataFrame()\n",
    "df['emotion']=output_emo\n",
    "df['time_Stamps']=time_stamps\n",
    "df.head()\n",
    "\n",
    "df.to_csv('emotions.csv')\n",
    "\n",
    "#sns.set(rc={'figure.figsize':(16,5)})\n",
    "sns.histplot(data=df, x='time_Stamps', hue='emotion', multiple='fill')"
   ]
  },
  {
   "cell_type": "markdown",
   "id": "2fcaef56",
   "metadata": {},
   "source": [
    "#### Viz with mode 2"
   ]
  },
  {
   "cell_type": "markdown",
   "id": "17cb27ce",
   "metadata": {},
   "source": [
    "def percentageEvaluationMode(value_list, timestamp_list, sliceSize):\n",
    "    outputList = []\n",
    "    timestamps = []\n",
    "    partitionSize = math.floor(len(value_list)/sliceSize)\n",
    "    #print(partitionSize)\n",
    "\n",
    "    for i in range(sliceSize):\n",
    "        #print(partitionSize*i)\n",
    "        #print(partitionSize*(i+1))\n",
    "        outputList.append(mode(value_list[partitionSize*i:partitionSize*(i+1)]))\n",
    "        timestamps.append(timestamp_list[partitionSize*i])\n",
    "    return outputList, timestamps"
   ]
  },
  {
   "cell_type": "markdown",
   "id": "acbae22d",
   "metadata": {},
   "source": [
    "normalizedEmotions, normalizedTimes = percentageEvaluationMode(output_emo, time_stamps, 100)"
   ]
  },
  {
   "cell_type": "markdown",
   "id": "dc88c713",
   "metadata": {},
   "source": [
    "df2 = pd.DataFrame()"
   ]
  },
  {
   "cell_type": "markdown",
   "id": "ad65c8a3",
   "metadata": {},
   "source": [
    "df2['emotion']=normalizedEmotions\n",
    "df2['time_Stamps']=normalizedTimes"
   ]
  },
  {
   "cell_type": "markdown",
   "id": "3c0085e4",
   "metadata": {},
   "source": [
    "sns.histplot(data=df2, x='time_Stamps', hue='emotion', multiple='fill')"
   ]
  },
  {
   "cell_type": "markdown",
   "id": "c5c65fc9",
   "metadata": {},
   "source": [
    "#### Sum Viz"
   ]
  },
  {
   "cell_type": "markdown",
   "id": "457ab095",
   "metadata": {},
   "source": [
    "def percentageEvaluationSum(value_list, timestamp_list, sliceSize):\n",
    "    outputListHappy = []\n",
    "    outputListSad = []\n",
    "    timestamps = []\n",
    "    partitionSize = math.floor(len(value_list)/sliceSize)\n",
    "    print(partitionSize)\n",
    "    for i in range(sliceSize):\n",
    "        happy_cnt = 0\n",
    "        sad_cnt = 0\n",
    "        for j in range(partitionSize*i, partitionSize*(i+1)):\n",
    "            if value_list[j] == 0:\n",
    "                happy_cnt += 1\n",
    "            if value_list[j] == 1:\n",
    "                sad_cnt += 1\n",
    "        \n",
    "        outputListHappy.append(happy_cnt)\n",
    "        outputListSad.append(sad_cnt)\n",
    "        \n",
    "        timestamps.append(timestamp_list[partitionSize*i])\n",
    "    return outputListHappy, outputListSad , timestamps"
   ]
  },
  {
   "cell_type": "markdown",
   "id": "228a0e44",
   "metadata": {},
   "source": [
    "normHappy, normSad, normalizedTimes = percentageEvaluationSum(output_emo, time_stamps, 100)"
   ]
  },
  {
   "cell_type": "markdown",
   "id": "19493a0f",
   "metadata": {},
   "source": [
    "df3 = pd.DataFrame()\n",
    "df3['happy'] = normHappy\n",
    "df3['sad'] = normSad\n",
    "df3['Time'] = normalizedTimes\n",
    "\n",
    "df3.set_index('Time')\n",
    "\n",
    "df3 =df3.melt('Time', var_name='emotion', value_name='value')\n",
    "\n",
    "df3"
   ]
  },
  {
   "cell_type": "markdown",
   "id": "dc825b85",
   "metadata": {},
   "source": [
    "sns.set(rc={'figure.figsize':(20,2)})\n",
    "sns.lineplot(data=df3, x='Time', y='value', hue='emotion')"
   ]
  },
  {
   "cell_type": "code",
   "execution_count": null,
   "id": "8ddaac8c",
   "metadata": {},
   "outputs": [],
   "source": []
  },
  {
   "cell_type": "markdown",
   "id": "6e0cefdc",
   "metadata": {},
   "source": [
    "#### Overall emotioness"
   ]
  },
  {
   "cell_type": "markdown",
   "id": "d942829f",
   "metadata": {},
   "source": [
    "normHappy, normSad, normalizedTimes = percentageEvaluationSum(output_emo, time_stamps, 20)"
   ]
  },
  {
   "cell_type": "markdown",
   "id": "ab358d66",
   "metadata": {},
   "source": [
    "df4 = pd.DataFrame()\n",
    "df4['emotioness'] = [x + y for x, y in zip(normHappy, normSad)]\n",
    "df4['time'] = normalizedTimes\n",
    "\n",
    "df4 = df4.set_index('time')"
   ]
  },
  {
   "cell_type": "markdown",
   "id": "87e21f08",
   "metadata": {},
   "source": [
    "sns.set(rc={'figure.figsize':(20,2)})\n",
    "sns.lineplot(data=df4, x='time', y='emotioness')"
   ]
  },
  {
   "cell_type": "markdown",
   "id": "3df2fab5",
   "metadata": {},
   "source": [
    "sns.set(rc={'figure.figsize':(20,2)})"
   ]
  },
  {
   "cell_type": "markdown",
   "id": "b4104609",
   "metadata": {},
   "source": [
    "type(normHappy)"
   ]
  },
  {
   "cell_type": "markdown",
   "id": "84462c67",
   "metadata": {},
   "source": [
    "df4 =  df4.transpose()"
   ]
  },
  {
   "cell_type": "markdown",
   "id": "aa65c4db",
   "metadata": {},
   "source": [
    "ax = sns.heatmap(df4, center=0, cmap='mako')"
   ]
  },
  {
   "cell_type": "markdown",
   "id": "54fcfba8",
   "metadata": {},
   "source": [
    "ax.invert_yaxis()"
   ]
  },
  {
   "cell_type": "markdown",
   "id": "2596f11e",
   "metadata": {},
   "source": [
    "#### Average emotion"
   ]
  },
  {
   "cell_type": "markdown",
   "id": "164cd05b",
   "metadata": {},
   "source": [
    "def percentageEvaluationAvg(value_list, timestamp_list, sliceSize):\n",
    "    outputList = []\n",
    "    timestamps = []\n",
    "    partitionSize = math.floor(len(value_list)/sliceSize)\n",
    "    print(partitionSize)\n",
    "    for i in range(sliceSize):\n",
    "        emotion_cnt = 0\n",
    "        for j in range(partitionSize*i, partitionSize*(i+1)):\n",
    "            if value_list[j] == 0:\n",
    "                emotion_cnt += 1\n",
    "            if value_list[j] == 1:\n",
    "                emotion_cnt -= 1\n",
    "        \n",
    "        outputList.append(emotion_cnt/partitionSize) \n",
    "        timestamps.append(timestamp_list[partitionSize*i])\n",
    "    return outputList , timestamps"
   ]
  },
  {
   "cell_type": "markdown",
   "id": "4e0cf059",
   "metadata": {},
   "source": [
    "avgEmotion, avgTime = percentageEvaluationAvg(output_emo, time_stamps, 50)"
   ]
  },
  {
   "cell_type": "markdown",
   "id": "3b457874",
   "metadata": {},
   "source": [
    "df5 = pd.DataFrame()\n",
    "df5['emotion'] = avgEmotion\n",
    "df5['time'] = avgTime\n",
    "\n",
    "df5 = df5.set_index('time')\n",
    "\n",
    "df5 =  df5.transpose()"
   ]
  },
  {
   "cell_type": "markdown",
   "id": "97a739ba",
   "metadata": {},
   "source": [
    "ax = sns.heatmap(df5, center=0)"
   ]
  },
  {
   "cell_type": "markdown",
   "id": "88caed4f",
   "metadata": {},
   "source": [
    "df5 =  df5.transpose()"
   ]
  },
  {
   "cell_type": "markdown",
   "id": "186987af",
   "metadata": {},
   "source": [
    "sns.set(rc={'figure.figsize':(20,2)})\n",
    "sns.lineplot(data=df5, x='time', y='emotion')"
   ]
  },
  {
   "cell_type": "markdown",
   "id": "97f239c1",
   "metadata": {},
   "source": [
    "#### Averaged Simplified"
   ]
  },
  {
   "cell_type": "markdown",
   "id": "269880cc",
   "metadata": {},
   "source": [
    "def percentageEvaluationAvgS(value_list, timestamp_list, sliceSize):\n",
    "    outputList = []\n",
    "    timestamps = []\n",
    "    partitionSize = math.floor(len(value_list)/sliceSize)\n",
    "    print(partitionSize)\n",
    "    for i in range(sliceSize):\n",
    "        emotion_cnt = 0\n",
    "        for j in range(partitionSize*i, partitionSize*(i+1)):\n",
    "            if value_list[j] == 0:\n",
    "                emotion_cnt += 1\n",
    "            if value_list[j] == 1:\n",
    "                emotion_cnt -= 1\n",
    "        if emotion_cnt/partitionSize > 0.5:\n",
    "            outputList.append(1)\n",
    "        else: \n",
    "            if emotion_cnt/partitionSize < -0.5:\n",
    "                outputList.append(-1)\n",
    "            else:\n",
    "                outputList.append(0)\n",
    "        timestamps.append(timestamp_list[partitionSize*i]//60)\n",
    "    return outputList , timestamps"
   ]
  },
  {
   "cell_type": "markdown",
   "id": "bdc8019f",
   "metadata": {},
   "source": [
    "avgEmotionS, avgTimeS = percentageEvaluationAvgS(sEmotion, sTime, 50)"
   ]
  },
  {
   "cell_type": "markdown",
   "id": "4349314a",
   "metadata": {},
   "source": [
    "avgTimeS[-1:]"
   ]
  },
  {
   "cell_type": "markdown",
   "id": "4c4a4ef3",
   "metadata": {},
   "source": [
    "df6 = pd.DataFrame()\n",
    "df6['emotion'] = avgEmotionS\n",
    "df6['time'] = avgTimeS\n",
    "\n",
    "df6 = df6.set_index('time')\n",
    "\n",
    "df6 =  df6.transpose()"
   ]
  },
  {
   "cell_type": "markdown",
   "id": "ba3f9b81",
   "metadata": {},
   "source": [
    "df6"
   ]
  },
  {
   "cell_type": "markdown",
   "id": "718a4dd7",
   "metadata": {},
   "source": [
    "sns.set(rc={'figure.figsize':(20,1)})\n",
    "ax = sns.heatmap(df6, center=0)"
   ]
  },
  {
   "cell_type": "markdown",
   "id": "fe384b24",
   "metadata": {},
   "source": [
    "df6 =  df6.transpose()"
   ]
  },
  {
   "cell_type": "markdown",
   "id": "fc546caf",
   "metadata": {},
   "source": [
    "df6"
   ]
  },
  {
   "cell_type": "markdown",
   "id": "59a5a909",
   "metadata": {},
   "source": [
    "sns.set(rc={'figure.figsize':(20,2)})\n",
    "sns.lineplot(data=df6, x='time', y='emotion')"
   ]
  },
  {
   "cell_type": "markdown",
   "id": "3732b183",
   "metadata": {},
   "source": [
    "#### General visualization class"
   ]
  },
  {
   "cell_type": "code",
   "execution_count": 13,
   "id": "07e0cf58",
   "metadata": {},
   "outputs": [],
   "source": [
    "#0 - happy\n",
    "#1 - sad\n",
    "#2 - neutral\n",
    "\n",
    "\n",
    "class visualizeEmotion:\n",
    "    def __init__(self, emotion_list, timestamps):\n",
    "        self.emotion_list = emotion_list\n",
    "        self.timestamps = timestamps\n",
    "    \n",
    "    def percentageEvaluationMode(self, value_list, timestamp_list, sliceSize):\n",
    "        outputList = []\n",
    "        timestamps = []\n",
    "        partitionSize = math.floor(len(value_list)/sliceSize)\n",
    "        #print(partitionSize)\n",
    "\n",
    "        for i in range(sliceSize):\n",
    "            #print(partitionSize*i)\n",
    "            #print(partitionSize*(i+1))\n",
    "            outputList.append(mode(value_list[partitionSize*i:partitionSize*(i+1)]))\n",
    "            timestamps.append(timestamp_list[partitionSize*i])\n",
    "        return outputList, timestamps\n",
    "    \n",
    "    def percentageEvaluationAvgT(self, value_list, timestamp_list, sliceSize, th):\n",
    "        outputList = []\n",
    "        timestamps = []\n",
    "        partitionSize = math.floor(len(value_list)/sliceSize)\n",
    "        print(partitionSize)\n",
    "        for i in range(sliceSize):\n",
    "            emotion_cnt = 0\n",
    "            for j in range(partitionSize*i, partitionSize*(i+1)):\n",
    "                if value_list[j] == 0:\n",
    "                    emotion_cnt += 1\n",
    "                if value_list[j] == 1:\n",
    "                    emotion_cnt -= 1\n",
    "            if emotion_cnt/partitionSize > th:\n",
    "                outputList.append(1)\n",
    "            else: \n",
    "                if emotion_cnt/partitionSize < th*-1:\n",
    "                    outputList.append(-1)\n",
    "                else:\n",
    "                    outputList.append(0)\n",
    "            timestamps.append(timestamp_list[partitionSize*i]//60)\n",
    "        return outputList , timestamps\n",
    "    \n",
    "    \n",
    "    def ModeView(self, sliceSize=100, type = 'hist'):\n",
    "        normalizedEmotions, normalizedTimes = self.percentageEvaluationMode(self.emotion_list, self.timestamps, sliceSize)\n",
    "        \n",
    "        df = pd.DataFrame()\n",
    "        df['emotion']=normalizedEmotions\n",
    "        df['time_Stamps']=normalizedTimes\n",
    "        \n",
    "        sns.set(rc={'figure.figsize':(20,2)})\n",
    "        \n",
    "        if type == 'hist':\n",
    "            sns.histplot(data=df, x='time_Stamps', hue='emotion', multiple='fill')\n",
    "        else:\n",
    "            if type == 'line':\n",
    "                df['emotion'].replace(1,-1) #replaces sad with -1\n",
    "                df['emotion'].replace(0, 1) #replaces happy with 1\n",
    "                df['emotion'].replace(2, 0) #replaces neutral with 1\n",
    "                \n",
    "                sns.lineplot(data=df, x='time_Stamps', y='emotion')\n",
    "            else:\n",
    "                raise ValueError('Supported types are: \"hist\" and \"line\"')\n",
    "    \n",
    "    def averageThresholdView(self, sliceSize=100, threshold=0.3):\n",
    "        avgEmotionS, avgTimeS = self.percentageEvaluationAvgT(self.emotion_list, self.timestamps, sliceSize, threshold)\n",
    "        df = pd.DataFrame()\n",
    "        df['emotion'] = avgEmotionS\n",
    "        df['time'] = avgTimeS\n",
    "\n",
    "        df = df.set_index('time')\n",
    "\n",
    "        df =  df.transpose()\n",
    "        \n",
    "        sns.set(rc={'figure.figsize':(20,1)})\n",
    "        colors = [\"#489FB5\", \"#EDE7E3\", \"#FFA62B\"]\n",
    "        ax = sns.heatmap(df, center=0, cmap = matplotlib.colors.LinearSegmentedColormap.from_list(\"\", colors))\n",
    "        \n",
    "        df =  df.transpose()\n",
    "        #sns.lineplot(data=df, x='time', y='emotion')"
   ]
  },
  {
   "cell_type": "code",
   "execution_count": 14,
   "id": "25af7ce3",
   "metadata": {},
   "outputs": [],
   "source": [
    "VE = visualizeEmotion(sEmotion, sTime)"
   ]
  },
  {
   "cell_type": "markdown",
   "id": "eef98488",
   "metadata": {},
   "source": [
    "VE.ModeView(20, type='hist')"
   ]
  },
  {
   "cell_type": "code",
   "execution_count": 18,
   "id": "9bb16422",
   "metadata": {},
   "outputs": [
    {
     "name": "stdout",
     "output_type": "stream",
     "text": [
      "92\n"
     ]
    },
    {
     "data": {
      "image/png": "[encoded data removed]",
      "text/plain": [
       "<Figure size 1440x72 with 2 Axes>"
      ]
     },
     "metadata": {},
     "output_type": "display_data"
    }
   ],
   "source": [
    "VE.averageThresholdView(100, 0.15)"
   ]
  },
  {
   "cell_type": "code",
   "execution_count": 16,
   "id": "116d5cc5",
   "metadata": {},
   "outputs": [],
   "source": [
    "#### timer\n",
    "\n",
    "t3 = time.time()"
   ]
  },
  {
   "cell_type": "code",
   "execution_count": 17,
   "id": "8f726f0d",
   "metadata": {},
   "outputs": [
    {
     "name": "stdout",
     "output_type": "stream",
     "text": [
      "212.51931643486023\n"
     ]
    }
   ],
   "source": [
    "delta2= t3-t1\n",
    "print(delta2)"
   ]
  }
 ],
 "metadata": {
  "kernelspec": {
   "display_name": "Python 3 (ipykernel)",
   "language": "python",
   "name": "python3"
  },
  "language_info": {
   "codemirror_mode": {
    "name": "ipython",
    "version": 3
   },
   "file_extension": ".py",
   "mimetype": "text/x-python",
   "name": "python",
   "nbconvert_exporter": "python",
   "pygments_lexer": "ipython3",
   "version": "3.10.4"
  }
 },
 "nbformat": 4,
 "nbformat_minor": 5
}
